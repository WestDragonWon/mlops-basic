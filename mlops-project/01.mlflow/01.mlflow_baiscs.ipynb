{
 "cells": [
  {
   "cell_type": "code",
   "execution_count": null,
   "metadata": {},
   "outputs": [],
   "source": [
    "import mlflow\n",
    "import mlflow.sklearn\n",
    "from sklearn.model_selection import train_test_split\n",
    "from sklearn.datasets import load_iris\n",
    "from sklearn.preprocessing import StandardScaler\n",
    "\n",
    "# 데이터 준비\n",
    "iris = load_iris() # 꽃 받침과 꽃 잎 사이즈를 가지고 꽃의 종류를 결정\n",
    "\n",
    "X = iris.data\n",
    "y = iris.target\n",
    "\n",
    "scaler = StandardScaler()\n",
    "X_scaled = scaler.fit_transform(X)\n",
    "\n",
    "\n",
    "# 학습 데이터와 테스트 데이터로 분리 => train_test_split()\n",
    "X_train, X_test, y_train, y_test = train_test_split(X_scaled, y, test_size=0.2, random_state=123)\n",
    "\n",
    "\n",
    "X_scaled\n",
    "\n",
    "\n",
    "# 얼굴인식 => ??? => 사람의 얼굴을 수치화 => Open CV => 무인차 (Open CV)\n"
   ]
  },
  {
   "cell_type": "code",
   "execution_count": null,
   "metadata": {},
   "outputs": [],
   "source": [
    "from sklearn.linear_model import LogisticRegression\n",
    "from sklearn.metrics import accuracy_score\n",
    "\n",
    "model = LogisticRegression(max_iter=200)\n",
    "model.fit(X_train, y_train) # train=모의고사 # 학습을 시킬 때는 학습 데이터만 제공\n",
    "\n",
    "model.predict(X_test) # 예측을 시킬 때는 테스트 데이터만 제공\n",
    "\n",
    "y_pred = model.predict(X_test)\n",
    "\n",
    "accuracy = accuracy_score(y_test, y_pred)\n",
    "\n",
    "print(f\"정확도 : {accuracy * 100}\")\n"
   ]
  },
  {
   "cell_type": "markdown",
   "metadata": {},
   "source": [
    "모델 학습과 모델 성능\n",
    "심플하게 모든 것은 ML flow에게 맡긴다. => mlflow.autolog()\n",
    "autolog에서 추적하지 못하는 다른 파라미터,메트릭,메타데이터 등등의 값을 수동으로 기록"
   ]
  },
  {
   "cell_type": "code",
   "execution_count": null,
   "metadata": {},
   "outputs": [],
   "source": [
    "mlflow.set_tracking_uri(\"http://127.0.0.1:5000\")\n",
    "print(\"\",mlflow.get_tracking_uri())"
   ]
  },
  {
   "cell_type": "code",
   "execution_count": null,
   "metadata": {},
   "outputs": [],
   "source": [
    "import mlflow.sklearn\n",
    "\n",
    "mlflow.autolog()\n",
    "\n",
    "with mlflow.start_run(nested=True):\n",
    "    model = LogisticRegression(max_iter=200)\n",
    "    model.fit(X_train, y_train)\n",
    "\n",
    "    y_pred = model.predict(X_test)\n",
    "    accuracy = accuracy_score(y_test, y_pred)\n",
    "\n",
    "    print(f\"정확도 : {accuracy * 100}\")\n"
   ]
  },
  {
   "cell_type": "code",
   "execution_count": null,
   "metadata": {},
   "outputs": [],
   "source": [
    "exp = mlflow.set_experiment(experiment_name='iris_classification_experiment')\n",
    "\n",
    "print(f\"Name: {exp.name}\")\n",
    "print(f\"ID: {exp.experiment_id}\")\n",
    "print(f\"Location: {exp.artifact_location}\")\n",
    "print(f\"Tags: {exp.tags}\")\n",
    "print(f\"Lifecycle: {exp.lifecycle_stage}\")\n",
    "print(f\"Create Timestamp: {exp.creation_time}\")\n"
   ]
  },
  {
   "cell_type": "code",
   "execution_count": null,
   "metadata": {},
   "outputs": [],
   "source": [
    "from sklearn.linear_model import LogisticRegression\n",
    "from sklearn.ensemble import RandomForestClassifier\n",
    "from sklearn.svm import SVC\n",
    "\n",
    "models = {\n",
    "    \"LogisticRegression\" :LogisticRegression(\n",
    "        max_iter=200, #최대 반복횟수\"\n",
    "        C=1.0, # 규제 강도(C값이 적을 수록 규제가 강화됨)\n",
    "        solver='lbfgs', #최적화 알고리즘\n",
    "        random_state=123\n",
    "    ),\n",
    "    \"RandomForest\" : RandomForestClassifier(\n",
    "        n_estimators=100, #트리의 갯수\n",
    "        max_depth=None,\n",
    "        random_state=123\n",
    "    ),\n",
    "    \"SVC\" : SVC(\n",
    "        kernel='linear', # linear, sigmoid, poly, rbf\n",
    "        random_state=123\n",
    "    ),\n",
    "}   \n"
   ]
  },
  {
   "cell_type": "code",
   "execution_count": null,
   "metadata": {},
   "outputs": [],
   "source": [
    "# 위 모델들을 한번씩 불러와서 (반복문) => 최고의 모델을 찾아내고, 해당 파라미터를 기록합니다.\n",
    "\n",
    "mlflow.autolog()\n",
    "\n",
    "best_accuracy = 0\n",
    "best_model = None\n",
    "best_model_name = None\n",
    "\n",
    "with mlflow.start_run(nested=True):\n",
    "    for model_name, model in models.items():\n",
    "        model.fit(X_train, y_train)\n",
    "        y_pred = model.predict(X_test)\n",
    "        accuracy = accuracy_score(y_test, y_pred)\n",
    "\n",
    "        if accuracy > best_accuracy:\n",
    "            best_accuracy = accuracy\n",
    "            best_model = model\n",
    "            best_model_name = model_name\n",
    "\n",
    "        print(f\"Model Name: {model_name}, Accuracy: {accuracy}\")\n",
    "\n",
    "        mlflow.log_param('best_model', best_model_name) # 파라미터 로그\n",
    "        mlflow.log_metric('best_accuracy', best_accuracy) # 메트릭 로그\n",
    "\n",
    "    print(f\"Best Model Name: {best_model_name}, Best Accuracy: {best_accuracy}\")\n",
    "    "
   ]
  },
  {
   "cell_type": "code",
   "execution_count": null,
   "metadata": {},
   "outputs": [],
   "source": [
    "mlflow.autolog()\n",
    "# 전체 모델에 대해서 기록을 하고 싶은데?\n",
    "\n",
    "for model_name, model in models.items():\n",
    "    with mlflow.start_run(run_name=model_name, nested=True):\n",
    "        model.fit(X_train, y_train)\n",
    "        y_pred = model.predict(X_test)\n",
    "        accuracy = accuracy_score(y_test, y_pred)\n",
    "\n",
    "        #모델을 mlflow에 저장\n",
    "        model_path = f\"model/{model_name}\"\n",
    "        mlflow.sklearn.log_model(model, model_path)\n",
    "\n",
    "        mlflow.log_param(f'{model_name}_param', model.get_params())\n",
    "        mlflow.log_metric(f'{model_name}_accuracy', accuracy)\n",
    "\n",
    "        print(f\"Model Name: {model_name}, Accuracy: {accuracy}\")\n",
    "\n"
   ]
  },
  {
   "cell_type": "code",
   "execution_count": null,
   "metadata": {},
   "outputs": [],
   "source": [
    "from mlflow.tracking import MlflowClient\n",
    "\n",
    "client = MlflowClient()\n",
    "\n",
    "def promote_to_staging(): pass # stage\n",
    "def promote_to_production(): pass # production\n",
    "def archive_model(): pass # archive: 모델 폐기 단계 \n",
    "def register_model(): pass # register: 모델 등록 단계\n",
    "\n"
   ]
  }
 ],
 "metadata": {
  "kernelspec": {
   "display_name": "base",
   "language": "python",
   "name": "python3"
  },
  "language_info": {
   "codemirror_mode": {
    "name": "ipython",
    "version": 3
   },
   "file_extension": ".py",
   "mimetype": "text/x-python",
   "name": "python",
   "nbconvert_exporter": "python",
   "pygments_lexer": "ipython3",
   "version": "3.8.19"
  }
 },
 "nbformat": 4,
 "nbformat_minor": 2
}
